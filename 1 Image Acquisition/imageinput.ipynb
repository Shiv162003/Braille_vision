{
 "cells": [
  {
   "cell_type": "code",
   "execution_count": 3,
   "id": "b229388f-828b-4cef-bc4e-8a3358e8c441",
   "metadata": {},
   "outputs": [
    {
     "name": "stdout",
     "output_type": "stream",
     "text": [
      "Image captured and saved.\n"
     ]
    }
   ],
   "source": [
    "import cv2\n",
    "import os\n",
    "\n",
    "def capture_and_save_image(url, save_directory):\n",
    "    # Initialize webcam\n",
    "    cap = cv2.VideoCapture(url)\n",
    "    \n",
    "    if not cap.isOpened():\n",
    "        print(\"Error: Could not open webcam.\")\n",
    "        return\n",
    "    \n",
    "    # Capture image\n",
    "    ret, frame = cap.read()\n",
    "    \n",
    "    if ret:\n",
    "        # Create directory to save images if it doesn't exist\n",
    "        if not os.path.exists(save_directory):\n",
    "            os.makedirs(save_directory)\n",
    "        \n",
    "        # Save image\n",
    "        image_path = os.path.join(save_directory, \"captured_image{i+1}.jpg\")\n",
    "        cv2.imwrite(image_path, frame)\n",
    "        print(\"Image captured and saved.\")\n",
    "        \n",
    "    else:\n",
    "        print(\"Error capturing image.\")\n",
    "    \n",
    "    # Release webcam\n",
    "    cap.release()\n",
    "\n",
    "# Example usage:\n",
    "webcam_url = 'http://192.168.1.5:8080/video'  # Change this\n",
    "save_dir = 'captured_images1'\n",
    "\n",
    "capture_and_save_image(webcam_url, save_dir)\n"
   ]
  },
  {
   "cell_type": "code",
   "execution_count": null,
   "id": "715b515f-f5d2-4789-ae06-34adb8a36dab",
   "metadata": {},
   "outputs": [],
   "source": []
  }
 ],
 "metadata": {
  "kernelspec": {
   "display_name": "Python 3 (ipykernel)",
   "language": "python",
   "name": "python3"
  },
  "language_info": {
   "codemirror_mode": {
    "name": "ipython",
    "version": 3
   },
   "file_extension": ".py",
   "mimetype": "text/x-python",
   "name": "python",
   "nbconvert_exporter": "python",
   "pygments_lexer": "ipython3",
   "version": "3.11.7"
  }
 },
 "nbformat": 4,
 "nbformat_minor": 5
}
