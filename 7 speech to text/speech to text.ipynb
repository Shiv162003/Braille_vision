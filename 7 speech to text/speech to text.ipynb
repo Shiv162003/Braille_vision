{
 "cells": [
  {
   "cell_type": "code",
   "execution_count": 1,
   "id": "2a1fe75c-4c4c-43f4-aaab-d1cb18956268",
   "metadata": {},
   "outputs": [],
   "source": [
    "import speech_recognition as s\n"
   ]
  },
  {
   "cell_type": "code",
   "execution_count": 13,
   "id": "69438620-fd43-4fc8-9b68-8993a8af55a5",
   "metadata": {},
   "outputs": [
    {
     "name": "stdout",
     "output_type": "stream",
     "text": [
      "I'm your scripter and listening you\n",
      "hay\n"
     ]
    }
   ],
   "source": [
    "import speech_recognition as s\n",
    "\n",
    "sr = s.Recognizer()\n",
    "print(\"I'm your scripter and listening you\")\n",
    "with s.Microphone() as m:\n",
    "    audio = sr.listen(m)\n",
    "    query = sr.recognize_google(audio, language='en-IN')\n",
    "    print(query)\n"
   ]
  },
  {
   "cell_type": "code",
   "execution_count": 15,
   "id": "a17570d9-7b46-4556-903c-ca585916a7ce",
   "metadata": {},
   "outputs": [
    {
     "name": "stdout",
     "output_type": "stream",
     "text": [
      "Say something:\n",
      "Recognized text: hello how are you\n"
     ]
    }
   ],
   "source": [
    "import speech_recognition as sr\n",
    "\n",
    "def recognize_speech():\n",
    "    recognizer = sr.Recognizer()\n",
    "    \n",
    "    with sr.Microphone() as source:\n",
    "        print(\"Say something:\")\n",
    "        audio = recognizer.listen(source)\n",
    "\n",
    "    try:\n",
    "        text = recognizer.recognize_google(audio)\n",
    "        return text\n",
    "    except sr.UnknownValueError:\n",
    "        print(\"Google Speech Recognition could not understand audio\")\n",
    "    except sr.RequestError as e:\n",
    "        print(\"Could not request results from Google Speech Recognition service; {0}\".format(e))\n",
    "\n",
    "# Example usage\n",
    "recognized_text = recognize_speech()\n",
    "if recognized_text:\n",
    "    print(\"Recognized text:\", recognized_text)\n"
   ]
  },
  {
   "cell_type": "code",
   "execution_count": null,
   "id": "8dead43c-6002-4b69-8e49-39dcb706f924",
   "metadata": {},
   "outputs": [],
   "source": []
  }
 ],
 "metadata": {
  "kernelspec": {
   "display_name": "Python 3 (ipykernel)",
   "language": "python",
   "name": "python3"
  },
  "language_info": {
   "codemirror_mode": {
    "name": "ipython",
    "version": 3
   },
   "file_extension": ".py",
   "mimetype": "text/x-python",
   "name": "python",
   "nbconvert_exporter": "python",
   "pygments_lexer": "ipython3",
   "version": "3.11.8"
  }
 },
 "nbformat": 4,
 "nbformat_minor": 5
}
