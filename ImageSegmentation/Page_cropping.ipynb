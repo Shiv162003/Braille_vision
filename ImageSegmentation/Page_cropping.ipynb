{
 "cells": [
  {
   "cell_type": "code",
   "execution_count": 16,
   "id": "42d7fbbd-22a6-4c16-ad21-711da2a66008",
   "metadata": {},
   "outputs": [],
   "source": [
    "import cv2\n",
    "\n",
    "def crop_image_from_all_sides(input_image_path, output_image_path, top, bottom, left, right):\n",
    "    \"\"\"\n",
    "    Crop the input image from all four sides clockwise by the specified amounts and save it to the output path.\n",
    "    \n",
    "    Parameters:\n",
    "    - input_image_path: Path to the input image.\n",
    "    - output_image_path: Path to save the cropped image.\n",
    "    - top: Amount to crop from the top side.\n",
    "    - bottom: Amount to crop from the bottom side.\n",
    "    - left: Amount to crop from the left side.\n",
    "    - right: Amount to crop from the right side.\n",
    "    \"\"\"\n",
    "    # Read the input image using OpenCV\n",
    "    img = cv2.imread(input_image_path)\n",
    "    \n",
    "    # Get the dimensions of the input image\n",
    "    height, width = img.shape[:2]\n",
    "    \n",
    "    # Calculate the cropping dimensions\n",
    "    top_crop = min(top, height)\n",
    "    bottom_crop = min(bottom, height - top_crop)\n",
    "    left_crop = min(left, width)\n",
    "    right_crop = min(right, width - left_crop)\n",
    "    \n",
    "    # Crop the image\n",
    "    cropped_img = img[top_crop:(height - bottom_crop), left_crop:(width - right_crop)]\n",
    "    \n",
    "    # Save the cropped image\n",
    "    cv2.imwrite(output_image_path, cropped_img)\n",
    "\n",
    "# Example usage:\n",
    "input_image_path = \"img.jpg\"\n",
    "output_image_path = \"cropped_image.jpg\"\n",
    "top_crop = 250\n",
    "bottom_crop = 150\n",
    "left_crop = 10\n",
    "right_crop = 750\n",
    "crop_image_from_all_sides(input_image_path, output_image_path, top_crop, bottom_crop, left_crop, right_crop)\n"
   ]
  }
 ],
 "metadata": {
  "kernelspec": {
   "display_name": "Python 3 (ipykernel)",
   "language": "python",
   "name": "python3"
  },
  "language_info": {
   "codemirror_mode": {
    "name": "ipython",
    "version": 3
   },
   "file_extension": ".py",
   "mimetype": "text/x-python",
   "name": "python",
   "nbconvert_exporter": "python",
   "pygments_lexer": "ipython3",
   "version": "3.11.7"
  }
 },
 "nbformat": 4,
 "nbformat_minor": 5
}
